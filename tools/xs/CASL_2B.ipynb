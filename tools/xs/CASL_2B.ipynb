{
 "cells": [
  {
   "cell_type": "markdown",
   "id": "cdd8a24a-a018-4a2b-aaed-7eae9c99a62b",
   "metadata": {},
   "source": [
    "# Fuel assembly: 2B"
   ]
  },
  {
   "cell_type": "markdown",
   "id": "880099d7-f1e0-4a4f-9a03-3d4c52de6943",
   "metadata": {},
   "source": [
    "## Import modules"
   ]
  },
  {
   "cell_type": "code",
   "execution_count": 11,
   "id": "e4b5e472-92fe-4d54-b9df-c70131c052a1",
   "metadata": {},
   "outputs": [],
   "source": [
    "import sys\n",
    "import os\n",
    "\n",
    "import openmc\n",
    "import openmc.mgxs as mgxs\n",
    "\n",
    "import numpy as np\n",
    "import matplotlib.pyplot as plt\n",
    "\n",
    "from IPython.display import Image"
   ]
  },
  {
   "cell_type": "markdown",
   "id": "beb6b720",
   "metadata": {},
   "source": [
    "## Add location of OpenMC XS executable, setup ENDF xs path"
   ]
  },
  {
   "cell_type": "code",
   "execution_count": 1,
   "id": "967f9f6c",
   "metadata": {},
   "outputs": [],
   "source": [
    "import os\n",
    "\n",
    "# Add path to OpenMC binary\n",
    "# os.environ['PATH'] += r':/path/to/openmc/bin'\n",
    "\n",
    "# Add location of OpenMC xs data\n",
    "# %env OPENMC_CROSS_SECTIONS=/path/to/openmc/cross_sections.xml"
   ]
  },
  {
   "cell_type": "markdown",
   "id": "c5a93e0f",
   "metadata": {},
   "source": [
    "## Start model"
   ]
  },
  {
   "cell_type": "code",
   "execution_count": 13,
   "id": "81bd266a",
   "metadata": {},
   "outputs": [],
   "source": [
    "model=openmc.Model()"
   ]
  },
  {
   "cell_type": "markdown",
   "id": "d759264e-22d9-45ed-9b06-58531a984021",
   "metadata": {},
   "source": [
    "### Define Materials"
   ]
  },
  {
   "cell_type": "code",
   "execution_count": 14,
   "id": "4d9f5bf4",
   "metadata": {},
   "outputs": [],
   "source": [
    "uo2 = openmc.Material(name = 'uo2')\n",
    "\n",
    "uo2.add_nuclide('U234', 6.11864E-06, 'ao')\n",
    "uo2.add_nuclide('U235', 7.18132E-04, 'ao')\n",
    "uo2.add_nuclide('U236', 3.29861E-06, 'ao')\n",
    "uo2.add_nuclide('U238', 2.21546E-02, 'ao')\n",
    "uo2.add_nuclide('O16', 4.57642E-02, 'ao')\n",
    "\n",
    "uo2.set_density('g/cm3', 10.257 )\n",
    "\n",
    "uo2.temperature = 600"
   ]
  },
  {
   "cell_type": "code",
   "execution_count": 15,
   "id": "e6e51a5e",
   "metadata": {},
   "outputs": [],
   "source": [
    "zirconium = openmc.Material(name = \"zirconium\")\n",
    "\n",
    "zirconium.add_nuclide('Zr90', 2.18865E-02, 'ao')\n",
    "zirconium.add_nuclide('Zr91', 4.77292E-03, 'ao')\n",
    "zirconium.add_nuclide('Zr92', 7.29551E-03, 'ao')\n",
    "zirconium.add_nuclide('Zr94', 7.39335E-03, 'ao')\n",
    "zirconium.add_nuclide('Zr96', 1.19110E-03, 'ao')\n",
    "zirconium.add_nuclide('Sn112',4.68066E-06, 'ao')\n",
    "zirconium.add_nuclide('Sn114', 3.18478E-06, 'ao')\n",
    "zirconium.add_nuclide('Sn115', 1.64064E-06, 'ao')\n",
    "zirconium.add_nuclide('Sn116', 7.01616E-05, 'ao')\n",
    "zirconium.add_nuclide('Sn117', 3.70592E-05, 'ao')\n",
    "zirconium.add_nuclide('Sn118', 1.16872E-04, 'ao')\n",
    "zirconium.add_nuclide('Sn119', 4.14504E-05, 'ao')\n",
    "zirconium.add_nuclide('Sn120', 1.57212E-04, 'ao')\n",
    "zirconium.add_nuclide('Sn122', 2.23417E-05, 'ao')\n",
    "zirconium.add_nuclide('Sn124', 2.79392E-05, 'ao')\n",
    "zirconium.add_nuclide('Fe54', 8.68307E-06, 'ao')\n",
    "zirconium.add_nuclide('Fe56', 1.36306E-04, 'ao')\n",
    "zirconium.add_nuclide('Fe57', 3.14789E-06, 'ao')\n",
    "zirconium.add_nuclide('Fe58', 4.18926E-07, 'ao')\n",
    "zirconium.add_nuclide('Cr50', 3.30121E-06, 'ao')\n",
    "zirconium.add_nuclide('Cr52', 6.36606E-05, 'ao')\n",
    "zirconium.add_nuclide('Cr53', 7.21860E-06, 'ao')\n",
    "zirconium.add_nuclide('Cr54', 1.79686E-06, 'ao')\n",
    "zirconium.add_nuclide('Hf174', 3.54138E-09, 'ao')\n",
    "zirconium.add_nuclide('Hf176', 1.16423E-07, 'ao')\n",
    "zirconium.add_nuclide('Hf177', 4.11686E-07, 'ao')\n",
    "zirconium.add_nuclide('Hf178', 6.03806E-07, 'ao')\n",
    "zirconium.add_nuclide('Hf179', 3.01460E-07, 'ao')\n",
    "zirconium.add_nuclide('Hf180', 7.76449E-07, 'ao')\n",
    "\n",
    "zirconium.set_density('g/cm3',  6.56)\n",
    "\n",
    "zirconium.temperature = 600"
   ]
  },
  {
   "cell_type": "code",
   "execution_count": 16,
   "id": "9ca3e82b",
   "metadata": {},
   "outputs": [],
   "source": [
    "water = openmc.Material(name = \"water\")\n",
    "\n",
    "water.add_nuclide('H1',4.96224E-02, 'ao')\n",
    "water.add_nuclide('O16', 2.48112E-02, 'ao')\n",
    "water.add_nuclide('B10', 1.07070E-05, 'ao')\n",
    "water.add_nuclide('B11', 4.30971E-05, 'ao')\n",
    "\n",
    "water.add_s_alpha_beta('c_H_in_H2O')\n",
    "\n",
    "water.set_density('g/cm3', 0.661)\n",
    "\n",
    "water.temperature = 600"
   ]
  },
  {
   "cell_type": "code",
   "execution_count": 17,
   "id": "dc859426",
   "metadata": {},
   "outputs": [],
   "source": [
    "helium = openmc.Material(name = \"helium\")\n",
    "\n",
    "helium.add_nuclide('He4',1, 'ao')\n",
    "\n",
    "helium.set_density('g/cm3', 0.178E-03 )\n",
    "\n",
    "helium.temperature = 600"
   ]
  },
  {
   "cell_type": "code",
   "execution_count": 18,
   "id": "50dee80c-d7a7-49e1-99ef-5094e87b5808",
   "metadata": {
    "scrolled": true
   },
   "outputs": [
    {
     "name": "stdout",
     "output_type": "stream",
     "text": [
      "[Material\n",
      "\tID             =\t5\n",
      "\tName           =\tuo2\n",
      "\tTemperature    =\t600\n",
      "\tDensity        =\t10.257 [g/cm3]\n",
      "\tVolume         =\tNone [cm^3]\n",
      "\tDepletable     =\tTrue\n",
      "\tS(a,b) Tables  \n",
      "\tNuclides       \n",
      "\tU234           =\t6.11864e-06  [ao]\n",
      "\tU235           =\t0.000718132  [ao]\n",
      "\tU236           =\t3.29861e-06  [ao]\n",
      "\tU238           =\t0.0221546    [ao]\n",
      "\tO16            =\t0.0457642    [ao]\n",
      ", Material\n",
      "\tID             =\t6\n",
      "\tName           =\tzirconium\n",
      "\tTemperature    =\t600\n",
      "\tDensity        =\t6.56 [g/cm3]\n",
      "\tVolume         =\tNone [cm^3]\n",
      "\tDepletable     =\tFalse\n",
      "\tS(a,b) Tables  \n",
      "\tNuclides       \n",
      "\tZr90           =\t0.0218865    [ao]\n",
      "\tZr91           =\t0.00477292   [ao]\n",
      "\tZr92           =\t0.00729551   [ao]\n",
      "\tZr94           =\t0.00739335   [ao]\n",
      "\tZr96           =\t0.0011911    [ao]\n",
      "\tSn112          =\t4.68066e-06  [ao]\n",
      "\tSn114          =\t3.18478e-06  [ao]\n",
      "\tSn115          =\t1.64064e-06  [ao]\n",
      "\tSn116          =\t7.01616e-05  [ao]\n",
      "\tSn117          =\t3.70592e-05  [ao]\n",
      "\tSn118          =\t0.000116872  [ao]\n",
      "\tSn119          =\t4.14504e-05  [ao]\n",
      "\tSn120          =\t0.000157212  [ao]\n",
      "\tSn122          =\t2.23417e-05  [ao]\n",
      "\tSn124          =\t2.79392e-05  [ao]\n",
      "\tFe54           =\t8.68307e-06  [ao]\n",
      "\tFe56           =\t0.000136306  [ao]\n",
      "\tFe57           =\t3.14789e-06  [ao]\n",
      "\tFe58           =\t4.18926e-07  [ao]\n",
      "\tCr50           =\t3.30121e-06  [ao]\n",
      "\tCr52           =\t6.36606e-05  [ao]\n",
      "\tCr53           =\t7.2186e-06   [ao]\n",
      "\tCr54           =\t1.79686e-06  [ao]\n",
      "\tHf174          =\t3.54138e-09  [ao]\n",
      "\tHf176          =\t1.16423e-07  [ao]\n",
      "\tHf177          =\t4.11686e-07  [ao]\n",
      "\tHf178          =\t6.03806e-07  [ao]\n",
      "\tHf179          =\t3.0146e-07   [ao]\n",
      "\tHf180          =\t7.76449e-07  [ao]\n",
      ", Material\n",
      "\tID             =\t7\n",
      "\tName           =\twater\n",
      "\tTemperature    =\t600\n",
      "\tDensity        =\t0.661 [g/cm3]\n",
      "\tVolume         =\tNone [cm^3]\n",
      "\tDepletable     =\tFalse\n",
      "\tS(a,b) Tables  \n",
      "\tS(a,b)         =\t('c_H_in_H2O', 1.0)\n",
      "\tNuclides       \n",
      "\tH1             =\t0.0496224    [ao]\n",
      "\tO16            =\t0.0248112    [ao]\n",
      "\tB10            =\t1.0707e-05   [ao]\n",
      "\tB11            =\t4.30971e-05  [ao]\n",
      ", Material\n",
      "\tID             =\t8\n",
      "\tName           =\thelium\n",
      "\tTemperature    =\t600\n",
      "\tDensity        =\t0.000178 [g/cm3]\n",
      "\tVolume         =\tNone [cm^3]\n",
      "\tDepletable     =\tFalse\n",
      "\tS(a,b) Tables  \n",
      "\tNuclides       \n",
      "\tHe4            =\t1            [ao]\n",
      "]\n"
     ]
    }
   ],
   "source": [
    "model.materials = openmc.Materials([uo2, zirconium, water,helium]) \n",
    "\n",
    "print(model.materials)"
   ]
  },
  {
   "cell_type": "markdown",
   "id": "ffd5255c-47f3-4394-836f-140dddeef018",
   "metadata": {},
   "source": [
    "### Create fuel pin: fuel, clad, water (no gap)"
   ]
  },
  {
   "cell_type": "code",
   "execution_count": 19,
   "id": "2867e0e9",
   "metadata": {},
   "outputs": [],
   "source": [
    "def pincell(family):\n",
    "    \n",
    "    pitch = 1.26\n",
    "\n",
    "    fuel_outer_radius = openmc.ZCylinder(r=0.4096)\n",
    "    clad_inner_radius = openmc.ZCylinder(r=0.418)\n",
    "    clad_outer_radius = openmc.ZCylinder(r=0.475)\n",
    "\n",
    "    left   = openmc.XPlane(-pitch/2, boundary_type='transmission')\n",
    "    right  = openmc.XPlane( pitch/2, boundary_type='transmission')\n",
    "    bottom = openmc.YPlane(-pitch/2, boundary_type='transmission')\n",
    "    top    = openmc.YPlane( pitch/2, boundary_type='transmission')\n",
    "\n",
    "    fuel_region  = -fuel_outer_radius\n",
    "    gap_region   = +fuel_outer_radius & -clad_inner_radius\n",
    "    clad_region  = +clad_inner_radius & -clad_outer_radius\n",
    "    water_region = +left & -right & +bottom & -top & +clad_outer_radius\n",
    "\n",
    "    fuel = openmc.Cell(name='fuel'+'_'+family)\n",
    "    fuel.fill = uo2\n",
    "    fuel.region = fuel_region\n",
    "    \n",
    "    gap = openmc.Cell(name='gap'+'_'+family)\n",
    "    gap.region = gap_region\n",
    "    gap.fill = helium     \n",
    "    \n",
    "    clad = openmc.Cell(name='clad'+'_'+family)\n",
    "    clad.fill = zirconium\n",
    "    clad.region = clad_region\n",
    "    \n",
    "    moderator = openmc.Cell(name='moderator'+'_'+family)\n",
    "    moderator.fill = water\n",
    "    moderator.region = water_region \n",
    "    \n",
    "    u = openmc.Universe(name='u'+'_'+family, cells=(fuel, clad, moderator,gap))\n",
    "    \n",
    "    return(u,fuel,clad,moderator,gap)"
   ]
  },
  {
   "cell_type": "markdown",
   "id": "8f1d95cc",
   "metadata": {},
   "source": [
    "### Create guide tube"
   ]
  },
  {
   "cell_type": "code",
   "execution_count": 20,
   "id": "1bdb4097",
   "metadata": {},
   "outputs": [],
   "source": [
    "def guide(family):\n",
    "    \n",
    "    pitch = 1.26\n",
    "\n",
    "    clad_inner_radius = openmc.ZCylinder(r=0.561)\n",
    "    clad_outer_radius = openmc.ZCylinder(r=0.602)\n",
    "    \n",
    "    left   = openmc.XPlane(-pitch/2, boundary_type='transmission')\n",
    "    right  = openmc.XPlane( pitch/2, boundary_type='transmission')\n",
    "    bottom = openmc.YPlane(-pitch/2, boundary_type='transmission')\n",
    "    top    = openmc.YPlane( pitch/2, boundary_type='transmission')       \n",
    "    \n",
    "    water_guide_region= -clad_inner_radius\n",
    "\n",
    "    clad_region = +clad_inner_radius & -clad_outer_radius\n",
    "\n",
    "    water_region = +left & -right & +bottom & -top & +clad_outer_radius\n",
    "    \n",
    "    water_guide = openmc.Cell(name='water'+'_'+family)\n",
    "    water_guide.fill = water\n",
    "    water_guide.region = water_guide_region\n",
    " \n",
    "    clad = openmc.Cell(name='clad'+'_'+family)\n",
    "    clad.fill = zirconium\n",
    "    clad.region = clad_region\n",
    "\n",
    "    moderator = openmc.Cell(name='moderator'+'_'+family)\n",
    "    moderator.fill = water\n",
    "    moderator.region = water_region \n",
    "    \n",
    "    u = openmc.Universe(name='u_guide'+'_'+family, cells=(water_guide, clad, moderator))\n",
    "    \n",
    "    return(u,water_guide,water_guide,clad,moderator)"
   ]
  },
  {
   "cell_type": "markdown",
   "id": "4c859055",
   "metadata": {},
   "source": [
    "### Create instrumentation tube"
   ]
  },
  {
   "cell_type": "code",
   "execution_count": 21,
   "id": "8ed6215b",
   "metadata": {},
   "outputs": [],
   "source": [
    "def instru(family):\n",
    "    pitch = 1.26\n",
    "\n",
    "    clad_inner_radius = openmc.ZCylinder(r=0.559)\n",
    "    clad_outer_radius = openmc.ZCylinder(r=0.605)\n",
    "    \n",
    "    left   = openmc.XPlane(-pitch/2, boundary_type='transmission')\n",
    "    right  = openmc.XPlane( pitch/2, boundary_type='transmission')\n",
    "    bottom = openmc.YPlane(-pitch/2, boundary_type='transmission')\n",
    "    top    = openmc.YPlane( pitch/2, boundary_type='transmission')       \n",
    "    \n",
    "    water_guide_region = -clad_inner_radius\n",
    "\n",
    "    clad_region = +clad_inner_radius & -clad_outer_radius\n",
    "    \n",
    "    water_region = +left & -right & +bottom & -top & +clad_outer_radius\n",
    "    \n",
    "    water_guide = openmc.Cell(name='water'+'_'+family)\n",
    "    water_guide.fill = water\n",
    "    water_guide.region = water_guide_region\n",
    "    \n",
    "    clad = openmc.Cell(name='clad'+'_'+family)\n",
    "    clad.fill = zirconium\n",
    "    clad.region = clad_region\n",
    "    \n",
    "    moderator = openmc.Cell(name='moderator'+'_'+family)\n",
    "    moderator.fill = water\n",
    "    moderator.region = water_region \n",
    "    \n",
    "    u = openmc.Universe(name='u_guide'+'_'+family, cells=(water_guide, clad, moderator))\n",
    "    \n",
    "    return(u,water_guide,water_guide,clad,moderator)"
   ]
  },
  {
   "cell_type": "markdown",
   "id": "dddcf1de",
   "metadata": {},
   "source": [
    "### Mapping onto the lattice"
   ]
  },
  {
   "cell_type": "code",
   "execution_count": 22,
   "id": "1a206692",
   "metadata": {},
   "outputs": [],
   "source": [
    "GT=[(5,2),(8,2),(3,3),(2,5),(5,5),(8,5),(2,8),(5,8)]\n",
    "IT=[(8,8)]\n",
    "\n",
    "GT_left=[]\n",
    "GT_full=[]\n",
    "for X in GT:\n",
    "    GT_left.append((X[0],X[1]))\n",
    "    GT_left.append((X[0],16-X[1]))\n",
    "for X in GT_left:\n",
    "    GT_full.append((X[0],X[1]))\n",
    "    GT_full.append((16-X[0],X[1]))    \n",
    "GT_full = list(set(GT_full))\n",
    "# print(np.array(GT_full)+(1,1))"
   ]
  },
  {
   "cell_type": "markdown",
   "id": "d751cb20",
   "metadata": {},
   "source": [
    "### Generate cells"
   ]
  },
  {
   "cell_type": "code",
   "execution_count": 23,
   "id": "e3912c66",
   "metadata": {},
   "outputs": [],
   "source": [
    "pincell_1_family = pincell('pincell')\n",
    "guide_1_family   = guide('guide')\n",
    "instru_1_family  = instru('instru')"
   ]
  },
  {
   "cell_type": "markdown",
   "id": "5a2a29ed",
   "metadata": {},
   "source": [
    "### Generate assembly"
   ]
  },
  {
   "cell_type": "code",
   "execution_count": 24,
   "id": "cbfd80a5",
   "metadata": {},
   "outputs": [],
   "source": [
    "assembly = openmc.RectLattice()\n",
    "pitch = 1.26\n",
    "\n",
    "dr = 0.04 # cm of water that is outside assembly\n",
    "\n",
    "size = 17 #size of the assembly \n",
    "assembly.pitch = (pitch,pitch)\n",
    "\n",
    "assembly.lower_left = (-size*pitch/2, -size*pitch/2)\n",
    "\n",
    "\n",
    "A = np.empty((size, size), dtype=openmc.universe.Universe)\n",
    "\n",
    "for ix in range(size):\n",
    "    for iy in range(size):\n",
    "        if (ix,iy) in GT_full : \n",
    "            A[ix][iy]=guide_1_family[0]\n",
    "        elif (ix,iy) in IT :\n",
    "            A[ix][iy]=instru_1_family[0]\n",
    "        else:\n",
    "            A[ix][iy]=pincell_1_family[0]    \n",
    "        \n",
    "assembly.universes = A\n",
    "\n",
    "moderator_outside = openmc.Cell(name='water_outside')\n",
    "moderator_outside.fill = water\n",
    "\n",
    "all_water = openmc.Universe()\n",
    "all_water.add_cell(moderator_outside)\n",
    "assembly.outer=all_water\n",
    "\n",
    "height = 385.1\n",
    "# 1/4 assembly\n",
    "min_x = openmc.XPlane(x0=-(size/2*pitch+dr), boundary_type='reflective')\n",
    "max_x = openmc.XPlane(x0=0, boundary_type='reflective')\n",
    "min_y = openmc.YPlane(y0=0, boundary_type='reflective')\n",
    "max_y = openmc.YPlane(y0=+(size/2*pitch+dr), boundary_type='reflective')\n",
    "min_z = openmc.ZPlane(z0=-height/2, boundary_type='reflective')\n",
    "max_z = openmc.ZPlane(z0=+height/2, boundary_type='reflective')\n",
    "\n",
    "root_cell = openmc.Cell(name='root cell', fill=assembly)\n",
    "root_cell.region = +min_x & -max_x & +min_y & -max_y & +min_z & -max_z\n",
    "\n",
    "model.geometry.root_universe = openmc.Universe(name='root universe')\n",
    "model.geometry.root_universe.add_cell(root_cell)"
   ]
  },
  {
   "cell_type": "markdown",
   "id": "de242f56-575c-4162-9850-e01d316406e4",
   "metadata": {},
   "source": [
    "### Plot"
   ]
  },
  {
   "cell_type": "code",
   "execution_count": 25,
   "id": "3542e039",
   "metadata": {},
   "outputs": [
    {
     "data": {
      "image/png": "[encoded data removed]",
      "text/plain": [
       "<IPython.core.display.Image object>"
      ]
     },
     "execution_count": 25,
     "metadata": {},
     "output_type": "execute_result"
    }
   ],
   "source": [
    "# export needed for plotting\n",
    "model.materials.export_to_xml()\n",
    "model.geometry.export_to_xml()\n",
    "\n",
    "plot = openmc.Plot()\n",
    "plot.filename = '2B'\n",
    "plot.from_geometry(model.geometry)\n",
    "plot.pixels = (1500, 1500)\n",
    "\n",
    "pitch_assembly = size*pitch + dr \n",
    "\n",
    "plot.width = (pitch_assembly+3, pitch_assembly+3)\n",
    "\n",
    "plot.origin = (0., 0., 0.)\n",
    "plot.color_by = 'cell'\n",
    "\n",
    "model.plots = openmc.Plots([plot])\n",
    "plot.to_ipython_image(openmc_exec='openmc', cwd='./')"
   ]
  },
  {
   "cell_type": "markdown",
   "id": "90c73240-9aae-4a8e-ab35-fbc68032fb85",
   "metadata": {},
   "source": [
    "###  Settings"
   ]
  },
  {
   "cell_type": "code",
   "execution_count": 26,
   "id": "42b13809-e8ac-45b5-8e4d-af2f00a57694",
   "metadata": {},
   "outputs": [],
   "source": [
    "settings = openmc.Settings()\n",
    "\n",
    "bounds = [-pitch_assembly/2, 0, -height/2, 0, +pitch_assembly/2, height/2]\n",
    "uniform_dist = openmc.stats.Box(bounds[:3], bounds[3:], only_fissionable=True)\n",
    "\n",
    "source = openmc.IndependentSource(space=uniform_dist)\n",
    "\n",
    "settings.source = source\n",
    "\n",
    "settings.batches = 50\n",
    "settings.inactive = 20\n",
    "settings.particles = 50000\n",
    "settings.keff_trigger = {'type':'std_dev','threshold':0.00100}\n",
    "settings.trigger_active = True\n",
    "settings.trigger_max_batches = 50000\n",
    "settings.output = {'tallies':True}\n",
    "\n",
    "settings.temperature['method'] = 'interpolation'\n",
    "\n",
    "model.settings = settings"
   ]
  },
  {
   "cell_type": "markdown",
   "id": "ca0fa5a3",
   "metadata": {},
   "source": [
    "### Tallies"
   ]
  },
  {
   "cell_type": "code",
   "execution_count": 27,
   "id": "0cc4a908",
   "metadata": {},
   "outputs": [],
   "source": [
    "tallies = openmc.Tallies()\n",
    "model.tallies = tallies"
   ]
  },
  {
   "cell_type": "markdown",
   "id": "709977dc-3ea8-48a7-ab09-bb9cecc54ffa",
   "metadata": {},
   "source": [
    "### Define and choose energy group"
   ]
  },
  {
   "cell_type": "code",
   "execution_count": 28,
   "id": "fbc12bc6-1180-46b2-af7e-d54c0cedb555",
   "metadata": {},
   "outputs": [],
   "source": [
    "egroup_name = 'SHEM-361'\n",
    "egroup = openmc.mgxs.GROUP_STRUCTURES[egroup_name]"
   ]
  },
  {
   "cell_type": "markdown",
   "id": "c4e87c13-a743-4039-b93c-001057d7b3af",
   "metadata": {},
   "source": [
    "### Create MGXS tallies for mgxs directory"
   ]
  },
  {
   "cell_type": "code",
   "execution_count": 29,
   "id": "dc4f0d15",
   "metadata": {},
   "outputs": [
    {
     "name": "stdout",
     "output_type": "stream",
     "text": [
      "['fuel_pincell', 'clad_pincell', 'moderator_pincell', 'gap_pincell', 'water_guide', 'clad_guide', 'moderator_guide', 'water_instru', 'clad_instru', 'moderator_instru', 'water_outside']\n"
     ]
    },
    {
     "name": "stderr",
     "output_type": "stream",
     "text": [
      "/Users/jean.ragusa/anaconda3/lib/python3.11/site-packages/openmc/mgxs/library.py:401: RuntimeWarning: The P0 correction will be ignored since the scattering order 7 is greater than zero\n",
      "  warn(msg, RuntimeWarning)\n"
     ]
    }
   ],
   "source": [
    "pn = 7\n",
    "    \n",
    "mgxs_lib = openmc.mgxs.Library(model.geometry)\n",
    "groups = openmc.mgxs.EnergyGroups(egroup)\n",
    "\n",
    "mgxs_lib.energy_groups = groups\n",
    "mgxs_lib.scatter_format = \"legendre\"\n",
    "mgxs_lib.mgxs_types = ['total', 'absorption', 'nu-fission', 'fission' ,'chi', \\\n",
    "                       'consistent nu-scatter matrix', 'multiplicity matrix','kappa-fission']\n",
    "\n",
    "mgxs_lib.legendre_order = pn\n",
    "if pn == 0:\n",
    "    mgxs_lib.correction = None\n",
    "\n",
    "mgxs_lib.by_nuclide = False\n",
    "mgxs_lib.domain_type = 'cell'\n",
    "mgxs_lib.domains = model.geometry.get_all_material_cells().values()\n",
    "# print(mgxs_lib.domains)\n",
    "\n",
    "all_cell_order=[]\n",
    "for cell in (mgxs_lib.domains):\n",
    "    all_cell_order.append(cell.name)\n",
    "print(all_cell_order)\n",
    "\n",
    "mgxs_lib.build_library()\n",
    "    \n",
    "mgxs_lib.build_library()\n",
    "mgxs_lib.check_library_for_openmc_mgxs()\n",
    "\n",
    "mgxs_lib.add_to_tallies_file(tallies, merge=True)"
   ]
  },
  {
   "cell_type": "markdown",
   "id": "aac9b55c-58f4-43b6-8234-6357d898c087",
   "metadata": {},
   "source": [
    "### Create power tally"
   ]
  },
  {
   "cell_type": "code",
   "execution_count": 30,
   "id": "0351a212",
   "metadata": {},
   "outputs": [],
   "source": [
    "## model.export_to_model_xml('model_iso.xml')"
   ]
  },
  {
   "cell_type": "markdown",
   "id": "971540b5-5bfb-47be-86f6-9d8b80a38f27",
   "metadata": {},
   "source": [
    "### Run OpenMC model"
   ]
  },
  {
   "cell_type": "code",
   "execution_count": 31,
   "id": "5cbc48d1-6c95-4536-bb96-498fd0e54c0a",
   "metadata": {
    "scrolled": true
   },
   "outputs": [
    {
     "name": "stderr",
     "output_type": "stream",
     "text": [
      "/Users/jean.ragusa/anaconda3/lib/python3.11/site-packages/openmc/mixin.py:70: IDWarning: Another Filter instance already exists with id=400.\n",
      "  warn(msg, IDWarning)\n",
      "/Users/jean.ragusa/anaconda3/lib/python3.11/site-packages/openmc/mixin.py:70: IDWarning: Another Filter instance already exists with id=2.\n",
      "  warn(msg, IDWarning)\n",
      "/Users/jean.ragusa/anaconda3/lib/python3.11/site-packages/openmc/mixin.py:70: IDWarning: Another Filter instance already exists with id=10.\n",
      "  warn(msg, IDWarning)\n"
     ]
    },
    {
     "name": "stdout",
     "output_type": "stream",
     "text": [
      "                                %%%%%%%%%%%%%%%\n",
      "                           %%%%%%%%%%%%%%%%%%%%%%%%\n",
      "                        %%%%%%%%%%%%%%%%%%%%%%%%%%%%%%\n",
      "                      %%%%%%%%%%%%%%%%%%%%%%%%%%%%%%%%%%\n",
      "                    %%%%%%%%%%%%%%%%%%%%%%%%%%%%%%%%%%%%%%\n",
      "                   %%%%%%%%%%%%%%%%%%%%%%%%%%%%%%%%%%%%%%%%\n",
      "                                    %%%%%%%%%%%%%%%%%%%%%%%%\n",
      "                                     %%%%%%%%%%%%%%%%%%%%%%%%\n",
      "                 ###############      %%%%%%%%%%%%%%%%%%%%%%%%\n",
      "                ##################     %%%%%%%%%%%%%%%%%%%%%%%\n",
      "                ###################     %%%%%%%%%%%%%%%%%%%%%%%\n",
      "                ####################     %%%%%%%%%%%%%%%%%%%%%%\n",
      "                #####################     %%%%%%%%%%%%%%%%%%%%%\n",
      "                ######################     %%%%%%%%%%%%%%%%%%%%\n",
      "                #######################     %%%%%%%%%%%%%%%%%%\n",
      "                 #######################     %%%%%%%%%%%%%%%%%\n",
      "                 ######################     %%%%%%%%%%%%%%%%%\n",
      "                  ####################     %%%%%%%%%%%%%%%%%\n",
      "                    #################     %%%%%%%%%%%%%%%%%\n",
      "                     ###############     %%%%%%%%%%%%%%%%\n",
      "                       ############     %%%%%%%%%%%%%%%\n",
      "                          ########     %%%%%%%%%%%%%%\n",
      "                                      %%%%%%%%%%%\n",
      "\n",
      "                 | The OpenMC Monte Carlo Code\n",
      "       Copyright | 2011-2024 MIT, UChicago Argonne LLC, and contributors\n",
      "         License | https://docs.openmc.org/en/latest/license.html\n",
      "         Version | 0.14.1-dev\n",
      "        Git SHA1 | cfe210da22367ce5cf928482e7b74e48c909a7ee\n",
      "       Date/Time | 2024-11-21 23:07:02\n",
      "  OpenMP Threads | 12\n",
      "\n",
      " Reading model XML file 'model.xml' ...\n",
      " WARNING: Other XML file input(s) are present. These files may be ignored in\n",
      "          favor of the model.xml file.\n",
      " Reading cross sections XML file...\n",
      " Reading U234 from /Users/jean.ragusa/repo/endfb-viii.0-hdf5/neutron/U234.h5\n",
      " Reading U235 from /Users/jean.ragusa/repo/endfb-viii.0-hdf5/neutron/U235.h5\n",
      " Reading U236 from /Users/jean.ragusa/repo/endfb-viii.0-hdf5/neutron/U236.h5\n",
      " Reading U238 from /Users/jean.ragusa/repo/endfb-viii.0-hdf5/neutron/U238.h5\n",
      " Reading O16 from /Users/jean.ragusa/repo/endfb-viii.0-hdf5/neutron/O16.h5\n",
      " Reading Zr90 from /Users/jean.ragusa/repo/endfb-viii.0-hdf5/neutron/Zr90.h5\n",
      " Reading Zr91 from /Users/jean.ragusa/repo/endfb-viii.0-hdf5/neutron/Zr91.h5\n",
      " Reading Zr92 from /Users/jean.ragusa/repo/endfb-viii.0-hdf5/neutron/Zr92.h5\n",
      " Reading Zr94 from /Users/jean.ragusa/repo/endfb-viii.0-hdf5/neutron/Zr94.h5\n",
      " Reading Zr96 from /Users/jean.ragusa/repo/endfb-viii.0-hdf5/neutron/Zr96.h5\n",
      " WARNING: Negative value(s) found on probability table for nuclide Zr96 at 294K\n",
      " WARNING: Negative value(s) found on probability table for nuclide Zr96 at 600K\n",
      " Reading Sn112 from /Users/jean.ragusa/repo/endfb-viii.0-hdf5/neutron/Sn112.h5\n",
      " Reading Sn114 from /Users/jean.ragusa/repo/endfb-viii.0-hdf5/neutron/Sn114.h5\n",
      " Reading Sn115 from /Users/jean.ragusa/repo/endfb-viii.0-hdf5/neutron/Sn115.h5\n",
      " Reading Sn116 from /Users/jean.ragusa/repo/endfb-viii.0-hdf5/neutron/Sn116.h5\n",
      " Reading Sn117 from /Users/jean.ragusa/repo/endfb-viii.0-hdf5/neutron/Sn117.h5\n",
      " Reading Sn118 from /Users/jean.ragusa/repo/endfb-viii.0-hdf5/neutron/Sn118.h5\n",
      " Reading Sn119 from /Users/jean.ragusa/repo/endfb-viii.0-hdf5/neutron/Sn119.h5\n",
      " Reading Sn120 from /Users/jean.ragusa/repo/endfb-viii.0-hdf5/neutron/Sn120.h5\n",
      " Reading Sn122 from /Users/jean.ragusa/repo/endfb-viii.0-hdf5/neutron/Sn122.h5\n",
      " Reading Sn124 from /Users/jean.ragusa/repo/endfb-viii.0-hdf5/neutron/Sn124.h5\n",
      " Reading Fe54 from /Users/jean.ragusa/repo/endfb-viii.0-hdf5/neutron/Fe54.h5\n",
      " Reading Fe56 from /Users/jean.ragusa/repo/endfb-viii.0-hdf5/neutron/Fe56.h5\n",
      " Reading Fe57 from /Users/jean.ragusa/repo/endfb-viii.0-hdf5/neutron/Fe57.h5\n",
      " Reading Fe58 from /Users/jean.ragusa/repo/endfb-viii.0-hdf5/neutron/Fe58.h5\n",
      " Reading Cr50 from /Users/jean.ragusa/repo/endfb-viii.0-hdf5/neutron/Cr50.h5\n",
      " Reading Cr52 from /Users/jean.ragusa/repo/endfb-viii.0-hdf5/neutron/Cr52.h5\n",
      " Reading Cr53 from /Users/jean.ragusa/repo/endfb-viii.0-hdf5/neutron/Cr53.h5\n",
      " Reading Cr54 from /Users/jean.ragusa/repo/endfb-viii.0-hdf5/neutron/Cr54.h5\n",
      " Reading Hf174 from /Users/jean.ragusa/repo/endfb-viii.0-hdf5/neutron/Hf174.h5\n",
      " Reading Hf176 from /Users/jean.ragusa/repo/endfb-viii.0-hdf5/neutron/Hf176.h5\n",
      " Reading Hf177 from /Users/jean.ragusa/repo/endfb-viii.0-hdf5/neutron/Hf177.h5\n",
      " Reading Hf178 from /Users/jean.ragusa/repo/endfb-viii.0-hdf5/neutron/Hf178.h5\n",
      " Reading Hf179 from /Users/jean.ragusa/repo/endfb-viii.0-hdf5/neutron/Hf179.h5\n",
      " Reading Hf180 from /Users/jean.ragusa/repo/endfb-viii.0-hdf5/neutron/Hf180.h5\n",
      " Reading H1 from /Users/jean.ragusa/repo/endfb-viii.0-hdf5/neutron/H1.h5\n",
      " Reading B10 from /Users/jean.ragusa/repo/endfb-viii.0-hdf5/neutron/B10.h5\n",
      " Reading B11 from /Users/jean.ragusa/repo/endfb-viii.0-hdf5/neutron/B11.h5\n",
      " Reading He4 from /Users/jean.ragusa/repo/endfb-viii.0-hdf5/neutron/He4.h5\n",
      " Reading c_H_in_H2O from\n",
      " /Users/jean.ragusa/repo/endfb-viii.0-hdf5/neutron/c_H_in_H2O.h5\n",
      " Minimum neutron data temperature: 294 K\n",
      " Maximum neutron data temperature: 600 K\n",
      " Preparing distributed cell instances...\n",
      " Writing summary.h5 file...\n",
      " Maximum neutron transport energy: 20000000 eV for Zr90\n",
      " Initializing source particles...\n",
      "\n",
      " ====================>     K EIGENVALUE SIMULATION     <====================\n",
      "\n",
      "  Bat./Gen.      k            Average k\n",
      "  =========   ========   ====================\n",
      "        1/1    1.18743\n",
      "        2/1    1.17496\n",
      "        3/1    1.17199\n",
      "        4/1    1.18762\n",
      "        5/1    1.19313\n",
      "        6/1    1.17152\n",
      "        7/1    1.18097\n",
      "        8/1    1.18562\n",
      "        9/1    1.17354\n",
      "       10/1    1.18476\n",
      "       11/1    1.18427\n",
      "       12/1    1.17671\n",
      "       13/1    1.20307\n",
      "       14/1    1.18814\n",
      "       15/1    1.18096\n",
      "       16/1    1.17470\n",
      "       17/1    1.19073\n",
      "       18/1    1.19633\n",
      "       19/1    1.18785\n",
      "       20/1    1.17491\n",
      "       21/1    1.18560\n",
      "       22/1    1.18858    1.18709 +/- 0.00149\n",
      "       23/1    1.18279    1.18565 +/- 0.00167\n",
      "       24/1    1.16600    1.18074 +/- 0.00505\n",
      "       25/1    1.18461    1.18151 +/- 0.00399\n",
      "       26/1    1.18071    1.18138 +/- 0.00326\n",
      "       27/1    1.17909    1.18105 +/- 0.00278\n",
      "       28/1    1.17516    1.18032 +/- 0.00251\n",
      "       29/1    1.18573    1.18092 +/- 0.00230\n",
      "       30/1    1.18113    1.18094 +/- 0.00206\n",
      "       31/1    1.16651    1.17963 +/- 0.00227\n",
      "       32/1    1.18478    1.18006 +/- 0.00212\n",
      "       33/1    1.18556    1.18048 +/- 0.00200\n",
      "       34/1    1.17778    1.18029 +/- 0.00186\n",
      "       35/1    1.18529    1.18062 +/- 0.00176\n",
      "       36/1    1.18429    1.18085 +/- 0.00166\n",
      "       37/1    1.17788    1.18068 +/- 0.00157\n",
      "       38/1    1.18827    1.18110 +/- 0.00154\n",
      "       39/1    1.18882    1.18150 +/- 0.00151\n",
      "       40/1    1.17784    1.18132 +/- 0.00145\n",
      "       41/1    1.18009    1.18126 +/- 0.00138\n",
      "       42/1    1.18288    1.18134 +/- 0.00132\n",
      "       43/1    1.19700    1.18202 +/- 0.00143\n",
      "       44/1    1.18592    1.18218 +/- 0.00138\n",
      "       45/1    1.17415    1.18186 +/- 0.00136\n",
      "       46/1    1.18155    1.18185 +/- 0.00131\n",
      "       47/1    1.18255    1.18187 +/- 0.00126\n",
      "       48/1    1.18670    1.18204 +/- 0.00122\n",
      "       49/1    1.18760    1.18224 +/- 0.00120\n",
      "       50/1    1.18477    1.18232 +/- 0.00116\n",
      " Triggers satisfied for batch 50\n",
      " Creating state point statepoint.00050.h5...\n",
      "\n",
      " =======================>     TIMING STATISTICS     <=======================\n",
      "\n",
      " Total time for initialization     = 3.5366e+00 seconds\n",
      "   Reading cross sections          = 3.5107e+00 seconds\n",
      " Total time in simulation          = 2.9951e+01 seconds\n",
      "   Time in transport only          = 2.9542e+01 seconds\n",
      "   Time in inactive batches        = 8.2226e+00 seconds\n",
      "   Time in active batches          = 2.1728e+01 seconds\n",
      "   Time synchronizing fission bank = 3.4223e-02 seconds\n",
      "     Sampling source sites         = 2.6270e-02 seconds\n",
      "     SEND/RECV source sites        = 7.9410e-03 seconds\n",
      "   Time accumulating tallies       = 1.1820e-01 seconds\n",
      "   Time writing statepoints        = 2.3488e-01 seconds\n",
      " Total time for finalization       = 1.0534e+01 seconds\n",
      " Total time elapsed                = 4.4087e+01 seconds\n",
      " Calculation Rate (inactive)       = 121616 particles/second\n",
      " Calculation Rate (active)         = 69034.8 particles/second\n",
      "\n",
      " ============================>     RESULTS     <============================\n",
      "\n",
      " k-effective (Collision)     = 1.18296 +/- 0.00106\n",
      " k-effective (Track-length)  = 1.18232 +/- 0.00116\n",
      " k-effective (Absorption)    = 1.18342 +/- 0.00094\n",
      " Combined k-effective        = 1.18300 +/- 0.00086\n",
      " Leakage Fraction            = 0.00000 +/- 0.00000\n",
      "\n"
     ]
    }
   ],
   "source": [
    "sp_file = model.run()"
   ]
  },
  {
   "cell_type": "code",
   "execution_count": 32,
   "id": "528790d0",
   "metadata": {},
   "outputs": [
    {
     "name": "stdout",
     "output_type": "stream",
     "text": [
      "sp NOT found\n"
     ]
    }
   ],
   "source": [
    "# trick to make several runs work with jupyter\n",
    "try:\n",
    "    sp \n",
    "    print('sp found')\n",
    "    sp.close()\n",
    "except NameError:\n",
    "    print('sp NOT found')"
   ]
  },
  {
   "cell_type": "code",
   "execution_count": 34,
   "id": "77d3b5b3-3dab-4f58-a9c6-60b34f9a0cd2",
   "metadata": {},
   "outputs": [],
   "source": [
    "sp = openmc.StatePoint(sp_file, autolink=False)\n",
    "su = openmc.Summary('summary.h5')\n",
    "sp.link_with_summary(su)"
   ]
  },
  {
   "cell_type": "code",
   "execution_count": 35,
   "id": "735800e9",
   "metadata": {},
   "outputs": [],
   "source": [
    "mgxs_lib.load_from_statepoint(sp)\n",
    "    \n",
    "pb_name = '2B'\n",
    "mgxs_lib.create_mg_library(xs_type='macro', xsdata_names=all_cell_order).export_to_hdf5\\\n",
    "('mgxs_' + pb_name + '.h5')"
   ]
  }
 ],
 "metadata": {
  "kernelspec": {
   "display_name": "Python 3 (ipykernel)",
   "language": "python",
   "name": "python3"
  },
  "language_info": {
   "codemirror_mode": {
    "name": "ipython",
    "version": 3
   },
   "file_extension": ".py",
   "mimetype": "text/x-python",
   "name": "python",
   "nbconvert_exporter": "python",
   "pygments_lexer": "ipython3",
   "version": "3.11.4"
  }
 },
 "nbformat": 4,
 "nbformat_minor": 5
}
