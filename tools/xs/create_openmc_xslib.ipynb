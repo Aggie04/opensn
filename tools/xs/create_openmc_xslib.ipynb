{
 "cells": [
  {
   "cell_type": "markdown",
   "metadata": {},
   "source": [
    "# OpenMC MGXS Library Generation"
   ]
  },
  {
   "cell_type": "markdown",
   "metadata": {},
   "source": [
    "### Environment"
   ]
  },
  {
   "cell_type": "code",
   "execution_count": null,
   "metadata": {},
   "outputs": [],
   "source": [
    "import math\n",
    "import numpy as np\n",
    "\n",
    "import matplotlib.pyplot as plt\n",
    "\n",
    "import openmc\n",
    "import openmc.mgxs\n",
    "\n",
    "import os\n",
    "\n",
    "# Add path to OpenMC binary\n",
    "os.environ['PATH'] += r':/path/to/openmc/bin'\n",
    "\n",
    "# Add location of OpenMC xs data\n",
    "%env OPENMC_CROSS_SECTIONS=/path/to/openmc/data/endfb-viii.0-hdf5/cross_sections.xml"
   ]
  },
  {
   "cell_type": "code",
   "execution_count": null,
   "metadata": {},
   "outputs": [],
   "source": [
    "model = openmc.Model()"
   ]
  },
  {
   "cell_type": "markdown",
   "metadata": {},
   "source": [
    "### Materials"
   ]
  },
  {
   "cell_type": "code",
   "execution_count": null,
   "metadata": {},
   "outputs": [],
   "source": [
    "# The resulting MGXS library will have the same name as the material, i.e. UO2.h5\n",
    "mat1 = openmc.Material(name='UO2')\n",
    "#mat1.add_element('U', 1.0)\n",
    "mat1.add_nuclide('U235', 0.20)\n",
    "mat1.add_nuclide('U238', 0.80)\n",
    "mat1.add_nuclide('O16', 2.0)\n",
    "mat1.set_density('g/cm3', 10.0)\n",
    "model.materials = openmc.Materials([mat1])"
   ]
  },
  {
   "cell_type": "markdown",
   "metadata": {},
   "source": [
    "### Geometry"
   ]
  },
  {
   "cell_type": "code",
   "execution_count": null,
   "metadata": {},
   "outputs": [],
   "source": [
    "# Create boundary planes\n",
    "min_x = openmc.XPlane(x0=-1., boundary_type='reflective')\n",
    "max_x = openmc.XPlane(x0=+1., boundary_type='reflective')\n",
    "min_y = openmc.YPlane(y0=-1., boundary_type='reflective')\n",
    "max_y = openmc.YPlane(y0=+1., boundary_type='reflective')\n",
    "min_z = openmc.ZPlane(z0=-1., boundary_type='reflective')\n",
    "max_z = openmc.ZPlane(z0=+1., boundary_type='reflective')\n",
    "\n",
    "# Create a universe an populate it with a single cell\n",
    "material_universe = openmc.Universe()\n",
    "material_cell = openmc.Cell()\n",
    "material_cell.fill = mat1\n",
    "material_cell.region = +min_x & -max_x & +min_y & -max_y & +min_z & -max_z\n",
    "material_universe.add_cell(material_cell)\n",
    "\n",
    "# Create root Cell\n",
    "root_cell = openmc.Cell(name='root cell')\n",
    "root_cell.fill = material_universe\n",
    "\n",
    "# Add boundary planes\n",
    "root_cell.region = +min_x & -max_x & +min_y & -max_y & +min_z & -max_z\n",
    "\n",
    "# Create root Universe\n",
    "root_universe = openmc.Universe(universe_id=0, name='root universe')\n",
    "root_universe.add_cell(root_cell)\n",
    "\n",
    "# Create Geometry and set root Universe\n",
    "model.geometry = openmc.Geometry(root_universe)"
   ]
  },
  {
   "cell_type": "markdown",
   "metadata": {},
   "source": [
    "### Simulation and Source\n",
    "\n",
    "Source can be either fixed source or fission."
   ]
  },
  {
   "cell_type": "code",
   "execution_count": null,
   "metadata": {},
   "outputs": [],
   "source": [
    "# OpenMC simulation parameters\n",
    "batches = 20\n",
    "inactive = 10\n",
    "particles = 1000000\n",
    "\n",
    "# Instantiate a Settings object\n",
    "settings = openmc.Settings()\n",
    "settings.batches = batches\n",
    "settings.inactive = inactive\n",
    "settings.particles = particles\n",
    "settings.output = {'tallies': False}\n",
    "\n",
    "# Fixed source\n",
    "#settings.run_mode = 'fixed source'\n",
    "#source = openmc.IndependentSource()\n",
    "#bounds = [-1.0, -1.0, -1.0, 1.0, 1.0, 1.0]\n",
    "#source.space = openmc.stats.Box(bounds[:3], bounds[3:])\n",
    "#source.angle = openmc.stats.Isotropic()\n",
    "#source.energy = openmc.stats.Discrete([1.0e+7], [1.0])\n",
    "#settings.source = source\n",
    "\n",
    "# Fission source\n",
    "settings.run_mode = 'eigenvalue'\n",
    "# Create an initial uniform spatial source distribution over fissionable zones\n",
    "bounds = [-1.0, -1.0, -1.0, 1.0, 1.0, 1.0]\n",
    "uniform_dist = openmc.stats.Box(bounds[:3], bounds[3:], only_fissionable=True)\n",
    "settings.source = openmc.Source(space=uniform_dist)\n",
    "\n",
    "model.settings = settings"
   ]
  },
  {
   "cell_type": "markdown",
   "metadata": {},
   "source": [
    "### MGXS Library - Group Structure"
   ]
  },
  {
   "cell_type": "code",
   "execution_count": null,
   "metadata": {},
   "outputs": [],
   "source": [
    "# Instantiate an EnergyGroups object\n",
    "# This is 172 group WIMS\n",
    "group_edges = np.array([0, 0.003, 0.005, 0.0069, 0.01, 0.015, 0.02, 0.025, 0.03, 0.035, 0.042,\n",
    "                        0.05, 0.058, 0.067, 0.077, 0.08, 0.095, 0.1, 0.115, 0.134, 0.14, 0.16,\n",
    "                        0.18, 0.189, 0.22, 0.248, 0.28, 0.3, 0.3145, 0.32, 0.35, 0.391, 0.4,\n",
    "                        0.433, 0.485, 0.5, 0.54, 0.625, 0.705, 0.78, 0.79, 0.85, 0.86, 0.91,\n",
    "                        0.93, 0.95, 0.972, 0.986, 0.996, 1.02, 1.035, 1.045, 1.071, 1.097,\n",
    "                        1.11, 1.12535, 1.15, 1.17, 1.235, 1.3, 1.3375, 1.37, 1.44498, 1.475,\n",
    "                        1.5, 1.59, 1.67, 1.755, 1.84, 1.93, 2.02, 2.1, 2.13, 2.36, 2.55, 2.6,\n",
    "                        2.72, 2.76792, 3.3, 3.38075, 4, 4.12925, 5.04348, 5.34643, 6.16012,\n",
    "                        7.52398, 8.31529, 9.18981, 9.90555, 11.2245, 13.7096, 15.9283, 19.4548,\n",
    "                        22.6033, 24.9805, 27.6077, 30.5113, 33.7201, 37.2665, 40.169, 45.5174,\n",
    "                        48.2516, 51.578, 55.5951, 67.904, 75.6736, 91.6609, 136.742, 148.625,\n",
    "                        203.995, 304.325, 371.703, 453.999, 677.287, 748.518, 914.242, 1010.39,\n",
    "                        1234.1, 1433.82, 1507.33, 2034.68, 2248.67, 3354.63, 3526.62, 5004.5,\n",
    "                        5530.85, 7465.86, 9118.82, 11137.8, 15034.4, 16615.6, 24787.5, 27394.4,\n",
    "                        29283, 36978.6, 40867.7, 55165.6, 67379.5, 82297.5, 111090, 122773,\n",
    "                        183156, 247235, 273237, 301974, 407622, 450492, 497871, 550232, 608101,\n",
    "                        820850, 907180, 1002590, 1108030, 1224560, 1353350, 1652990, 2018970,\n",
    "                        2231300, 2465970, 3011940, 3678790, 4493290, 5488120, 6065310, 6703200,\n",
    "                        8187310, 1e+07, 1.16183e+07, 1.38403e+07, 1.49182e+07, 1.73325e+07, 2e+07])\n",
    "groups = openmc.mgxs.EnergyGroups(group_edges)\n",
    "\n",
    "# Initialize MGXS Library for OpenMOC\n",
    "mgxs_lib = openmc.mgxs.Library(model.geometry)\n",
    "mgxs_lib.energy_groups = groups"
   ]
  },
  {
   "cell_type": "markdown",
   "metadata": {},
   "source": [
    "### MGXSLibrary - Scatttering Format and Legendre Order"
   ]
  },
  {
   "cell_type": "code",
   "execution_count": null,
   "metadata": {},
   "outputs": [],
   "source": [
    "mgxs_lib.scatter_format = \"legendre\"\n",
    "mgxs_lib.legendre_order = 1"
   ]
  },
  {
   "cell_type": "markdown",
   "metadata": {},
   "source": [
    "### MGXS Library - Cross Sections\n",
    "\n",
    "Specify the types of cross sections to compute. In particular, the following are the multi-group cross section `MGXS` subclasses that are mapped to string codes accepted by the `Library` class:\n",
    "\n",
    "* `TotalXS` (`\"total\"`)\n",
    "* `TransportXS` (`\"transport\"` or `\"nu-transport` with `nu` set to `True`)\n",
    "* `AbsorptionXS` (`\"absorption\"`)\n",
    "* `CaptureXS` (`\"capture\"`)\n",
    "* `FissionXS` (`\"fission\"` or `\"nu-fission\"` with `nu` set to `True`)\n",
    "* `KappaFissionXS` (`\"kappa-fission\"`)\n",
    "* `ScatterXS` (`\"scatter\"` or `\"nu-scatter\"` with `nu` set to `True`)\n",
    "* `ScatterMatrixXS` (`\"scatter matrix\"` or `\"nu-scatter matrix\"` with `nu` set to `True`)\n",
    "* `Chi` (`\"chi\"`)\n",
    "* `ChiPrompt` (`\"chi prompt\"`)\n",
    "* `InverseVelocity` (`\"inverse-velocity\"`)\n",
    "* `PromptNuFissionXS` (`\"prompt-nu-fission\"`)\n",
    "* `DelayedNuFissionXS` (`\"delayed-nu-fission\"`)\n",
    "* `ChiDelayed` (`\"chi-delayed\"`)\n",
    "* `Beta` (`\"beta\"`)\n",
    "\n",
    "**Note**: A variety of different approximate transport-corrected total multi-group cross sections (and corresponding scattering matrices) can be found in the literature. At the present time, the `openmc.mgxs` module only supports the `\"P0\"` transport correction. This correction can be turned on and off through the boolean `Library.correction` property which may take values of `\"P0\"` (default) or `None`."
   ]
  },
  {
   "cell_type": "code",
   "execution_count": null,
   "metadata": {},
   "outputs": [],
   "source": [
    "# Specify multi-group cross section types to compute\n",
    "mgxs_lib.mgxs_types = ['total', 'absorption', 'fission', 'nu-fission', 'chi', 'scatter matrix', 'nu-scatter matrix', 'inverse-velocity']\n",
    "\n",
    "# Compute cross sections on a nuclide-by-nuclide basis\n",
    "mgxs_lib.by_nuclide = False"
   ]
  },
  {
   "cell_type": "markdown",
   "metadata": {},
   "source": [
    "### MGXS Library - Domain\n",
    "\n",
    "Now we must specify the type of domain over which we would like the `Library` to compute multi-group cross sections. The domain type corresponds to the type of tally filter to be used in the tallies created to compute multi-group cross sections. At the present time, the `Library` supports `\"material\"`, `\"cell\"`, `\"universe\"`, and `\"mesh\"` domain types. We will use a `\"cell\"` domain type here to compute cross sections.\n",
    "\n",
    "**Note:** By default, the `Library` class will instantiate `MGXS` objects for each and every domain (material, cell or universe) in the geometry of interest. However, one may specify a subset of these domains to the `Library.domains` property. In our case, we wish to compute multi-group cross sections in each and every cell since they will be needed in our downstream OpenMOC calculation on the identical combinatorial geometry mesh."
   ]
  },
  {
   "cell_type": "code",
   "execution_count": null,
   "metadata": {},
   "outputs": [],
   "source": [
    "# Specify a \"cell\" domain type for the cross section tally filters\n",
    "mgxs_lib.domain_type = 'cell'\n",
    "\n",
    "# Specify the cell domains over which to compute multi-group cross sections\n",
    "mgxs_lib.domains = model.geometry.get_all_material_cells().values()"
   ]
  },
  {
   "cell_type": "markdown",
   "metadata": {},
   "source": [
    "### MGXS Library - Tallies\n",
    "\n",
    "Lastly, we use the `Library` to construct the tallies needed to compute all of the requested multi-group cross sections in each domain and nuclide."
   ]
  },
  {
   "cell_type": "code",
   "execution_count": null,
   "metadata": {},
   "outputs": [],
   "source": [
    "# Construct all tallies needed for the multi-group cross section library\n",
    "mgxs_lib.build_library()"
   ]
  },
  {
   "cell_type": "markdown",
   "metadata": {},
   "source": [
    "The tallies can now be export to a \"tallies.xml\" input file for OpenMC. \n",
    "\n",
    "**NOTE**: At this point the `Library` has constructed nearly 100 distinct `Tally` objects. The overhead to tally in OpenMC scales as $O(N)$ for $N$ tallies, which can become a bottleneck for large tally datasets. To compensate for this, the Python API's `Tally`, `Filter` and `Tallies` classes allow for the smart *merging* of tallies when possible. The `Library` class supports this runtime optimization with the use of the optional `merge` paramter (`False` by default) for the `Library.add_to_tallies_file(...)` method, as shown below."
   ]
  },
  {
   "cell_type": "code",
   "execution_count": null,
   "metadata": {},
   "outputs": [],
   "source": [
    "# Create a \"tallies.xml\" file for the MGXS Library\n",
    "tallies = openmc.Tallies()\n",
    "mgxs_lib.add_to_tallies_file(tallies, merge=True)\n",
    "\n",
    "model.tallies = tallies"
   ]
  },
  {
   "cell_type": "markdown",
   "metadata": {},
   "source": [
    "### Run Simulation"
   ]
  },
  {
   "cell_type": "code",
   "execution_count": null,
   "metadata": {},
   "outputs": [],
   "source": [
    "# Run OpenMC\n",
    "statepoint_filename = model.run()"
   ]
  },
  {
   "cell_type": "markdown",
   "metadata": {},
   "source": [
    "### Process Tallies"
   ]
  },
  {
   "cell_type": "markdown",
   "metadata": {},
   "source": [
    "Our simulation ran successfully and created statepoint and summary output files. We begin our analysis by instantiating a `StatePoint` object. "
   ]
  },
  {
   "cell_type": "code",
   "execution_count": null,
   "metadata": {},
   "outputs": [],
   "source": [
    "# Load the last statepoint file\n",
    "sp = openmc.StatePoint(statepoint_filename)"
   ]
  },
  {
   "cell_type": "markdown",
   "metadata": {},
   "source": [
    "The statepoint is now ready to be analyzed by the `Library`. We simply have to load the tallies from the statepoint into the `Library` and our `MGXS` objects will compute the cross sections for us under-the-hood."
   ]
  },
  {
   "cell_type": "code",
   "execution_count": null,
   "metadata": {},
   "outputs": [],
   "source": [
    "# Initialize MGXS Library with OpenMC statepoint data\n",
    "mgxs_lib.load_from_statepoint(sp)"
   ]
  },
  {
   "cell_type": "markdown",
   "metadata": {},
   "source": [
    "### Create MGXS Library"
   ]
  },
  {
   "cell_type": "code",
   "execution_count": null,
   "metadata": {},
   "outputs": [],
   "source": [
    "mgxs_file = mgxs_lib.create_mg_library(xs_type='macro')\n",
    "mgxs_file.export_to_hdf5()\n",
    "os.rename('mgxs.h5', mat1.name + '.h5')"
   ]
  },
  {
   "cell_type": "markdown",
   "metadata": {},
   "source": [
    "### Print/Plot Cross Section Data\n",
    "\n",
    "More xs plotting examples can be found here: https://docs.openmc.org/en/v0.12.0/examples/mgxs-part-ii.html"
   ]
  },
  {
   "cell_type": "code",
   "execution_count": null,
   "metadata": {},
   "outputs": [],
   "source": [
    "# Retrieve the totalXS object from the library\n",
    "mgxs = mgxs_lib.get_mgxs(material_cell, 'total')\n",
    "dataframe = mgxs.get_pandas_dataframe(xs_type='macro')\n",
    "mgxs.print_xs()\n",
    "\n",
    "# Cast DataFrames as NumPy arrays\n",
    "y = dataframe['mean'].values\n",
    "y = np.insert(y, 0, y[0])\n",
    "x = group_edges\n",
    "\n",
    "fig = plt.figure()\n",
    "fig.set_figheight(8)\n",
    "fig.set_figwidth(8)\n",
    "ax = fig.add_subplot(111)\n",
    "\n",
    "ax.set_xscale('log')\n",
    "ax.set_yscale('log')\n",
    "\n",
    "ax.set_title('Total Multi-Group Cross Section', fontsize='14')\n",
    "ax.set_facecolor('white')\n",
    "ax.plot(x, y)\n",
    "ax.grid(color='grey')\n",
    "ax.set_xlabel('eV', fontsize='12')\n",
    "ax.set_ylabel('cm$^{-1}$', fontsize='12')\n"
   ]
  },
  {
   "cell_type": "markdown",
   "metadata": {},
   "source": [
    "### Cleanup"
   ]
  },
  {
   "cell_type": "code",
   "execution_count": null,
   "metadata": {},
   "outputs": [],
   "source": [
    "if os.path.exists('summary.h5'):\n",
    "    os.remove('summary.h5')\n",
    "    \n",
    "if os.path.exists('model.xml'):\n",
    "    os.remove('model.xml')\n",
    "\n",
    "if os.path.exists(statepoint_filename):\n",
    "    os.remove(statepoint_filename)"
   ]
  }
 ],
 "metadata": {
  "anaconda-cloud": {},
  "kernelspec": {
   "display_name": "Python 3 (ipykernel)",
   "language": "python",
   "name": "python3"
  },
  "language_info": {
   "codemirror_mode": {
    "name": "ipython",
    "version": 3
   },
   "file_extension": ".py",
   "mimetype": "text/x-python",
   "name": "python",
   "nbconvert_exporter": "python",
   "pygments_lexer": "ipython3"
  }
 },
 "nbformat": 4,
 "nbformat_minor": 4
}
