{
 "cells": [
  {
   "cell_type": "markdown",
   "id": "394d1d5f",
   "metadata": {},
   "source": [
    "# Generation of MGXS for a fuel pin cell, using OpenMC\n",
    "\n",
    "Author: J. Ragusa"
   ]
  },
  {
   "cell_type": "markdown",
   "id": "d93b852e",
   "metadata": {},
   "source": [
    "## Environment"
   ]
  },
  {
   "cell_type": "code",
   "execution_count": 1,
   "id": "a861146a",
   "metadata": {},
   "outputs": [],
   "source": [
    "import math\n",
    "import numpy as np\n",
    "\n",
    "import matplotlib as mpl\n",
    "import matplotlib.pyplot as plt\n",
    "\n",
    "import openmc\n",
    "import openmc.mgxs"
   ]
  },
  {
   "cell_type": "code",
   "execution_count": 2,
   "id": "87b5efdc",
   "metadata": {},
   "outputs": [
    {
     "name": "stdout",
     "output_type": "stream",
     "text": [
      "env: OPENMC_CROSS_SECTIONS=/Users/jean.ragusa/repo/endfb-viii.0-hdf5/cross_sections.xml\n"
     ]
    }
   ],
   "source": [
    "import os\n",
    "\n",
    "# Add path to OpenMC binary\n",
    "# os.environ['PATH'] += r':/path/to/openmc/bin'\n",
    "\n",
    "# Add location of OpenMC xs data\n",
    "# %env OPENMC_CROSS_SECTIONS=/path/to/endf/data/cross_sections.xml"
   ]
  },
  {
   "cell_type": "markdown",
   "id": "e3322b53",
   "metadata": {},
   "source": [
    "## Initialize empty model"
   ]
  },
  {
   "cell_type": "code",
   "execution_count": 3,
   "id": "a7683c29",
   "metadata": {},
   "outputs": [],
   "source": [
    "model = openmc.Model()"
   ]
  },
  {
   "cell_type": "markdown",
   "id": "14cd6acc",
   "metadata": {},
   "source": [
    "## Materials"
   ]
  },
  {
   "cell_type": "code",
   "execution_count": 4,
   "id": "5bab6838",
   "metadata": {},
   "outputs": [],
   "source": [
    "uo2 = openmc.Material(name='UO2')\n",
    "uo2.add_nuclide('U235', 0.03)\n",
    "uo2.add_nuclide('U238', 0.97)\n",
    "uo2.add_element('O', 2.0)\n",
    "uo2.set_density('g/cm3', 10.0)"
   ]
  },
  {
   "cell_type": "code",
   "execution_count": 5,
   "id": "25d45e41",
   "metadata": {},
   "outputs": [],
   "source": [
    "zirconium = openmc.Material(name='Zirc')\n",
    "zirconium.add_element('Zr', 1.0)\n",
    "zirconium.set_density('g/cm3', 6.6)"
   ]
  },
  {
   "cell_type": "code",
   "execution_count": 6,
   "id": "c21cefd9",
   "metadata": {},
   "outputs": [],
   "source": [
    "water = openmc.Material(name='H2O')\n",
    "water.add_element('H', 2.0)\n",
    "water.add_nuclide('O16', 1.0)\n",
    "water.set_density('g/cm3', 0.7)\n",
    "\n",
    "water.add_s_alpha_beta('c_H_in_H2O')"
   ]
  },
  {
   "cell_type": "code",
   "execution_count": 7,
   "id": "e162b90d",
   "metadata": {},
   "outputs": [],
   "source": [
    "model.materials = openmc.Materials([uo2, zirconium, water])"
   ]
  },
  {
   "cell_type": "markdown",
   "id": "1d83e291",
   "metadata": {},
   "source": [
    "## Geometry\n",
    "### Surfaces"
   ]
  },
  {
   "cell_type": "code",
   "execution_count": 8,
   "id": "bab4440c",
   "metadata": {},
   "outputs": [],
   "source": [
    "fuel_or = openmc.ZCylinder(r=0.39)\n",
    "clad_ir = openmc.ZCylinder(r=0.40)\n",
    "clad_or = openmc.ZCylinder(r=0.46)\n",
    "\n",
    "pitch  = 1.26\n",
    "left   = openmc.XPlane(x0 =-pitch/2, boundary_type='reflective')\n",
    "right  = openmc.XPlane(x0 = pitch/2, boundary_type='reflective')\n",
    "bottom = openmc.YPlane(y0 =-pitch/2, boundary_type='reflective')\n",
    "top    = openmc.YPlane(y0 = pitch/2, boundary_type='reflective')"
   ]
  },
  {
   "cell_type": "markdown",
   "id": "3a858708",
   "metadata": {},
   "source": [
    "### Regions based on surfaces"
   ]
  },
  {
   "cell_type": "code",
   "execution_count": 9,
   "id": "2e0b581e",
   "metadata": {},
   "outputs": [],
   "source": [
    "fuel_region  = -fuel_or\n",
    "gap_region   = +fuel_or & -clad_ir\n",
    "clad_region  = +clad_ir & -clad_or\n",
    "water_region = +left & -right & +bottom & -top & +clad_or"
   ]
  },
  {
   "cell_type": "markdown",
   "id": "523a4eb7",
   "metadata": {},
   "source": [
    "### Cells (= regions + materials)"
   ]
  },
  {
   "cell_type": "code",
   "execution_count": 10,
   "id": "ae6c180e",
   "metadata": {},
   "outputs": [],
   "source": [
    "fuel_cell = openmc.Cell(name='Fuel')\n",
    "fuel_cell.fill = uo2\n",
    "fuel_cell.region = fuel_region\n",
    "\n",
    "gap_cell = openmc.Cell(name='Gap')\n",
    "# gap.fill = 'void'\n",
    "gap_cell.region = gap_region\n",
    "\n",
    "clad_cell = openmc.Cell(name='Clad')\n",
    "clad_cell.fill = zirconium\n",
    "clad_cell.region = clad_region\n",
    "\n",
    "moderator_cell = openmc.Cell(name='Moderator')\n",
    "moderator_cell.fill = water\n",
    "moderator_cell.region = water_region"
   ]
  },
  {
   "cell_type": "code",
   "execution_count": 11,
   "id": "43cf0203",
   "metadata": {},
   "outputs": [
    {
     "name": "stdout",
     "output_type": "stream",
     "text": [
      "Cell\n",
      "\tID             =\t1\n",
      "\tName           =\tFuel\n",
      "\tFill           =\tMaterial 1\n",
      "\tRegion         =\t-1\n",
      "\tRotation       =\tNone\n",
      "\tTemperature    =\tNone\n",
      "\tTranslation    =\tNone\n",
      "\tVolume         =\tNone\n",
      "\n",
      "Cell\n",
      "\tID             =\t2\n",
      "\tName           =\tGap\n",
      "\tFill           =\tNone\n",
      "\tRegion         =\t(1 -2)\n",
      "\tRotation       =\tNone\n",
      "\tTranslation    =\tNone\n",
      "\tVolume         =\tNone\n",
      "\n",
      "Cell\n",
      "\tID             =\t3\n",
      "\tName           =\tClad\n",
      "\tFill           =\tMaterial 2\n",
      "\tRegion         =\t(2 -3)\n",
      "\tRotation       =\tNone\n",
      "\tTemperature    =\tNone\n",
      "\tTranslation    =\tNone\n",
      "\tVolume         =\tNone\n",
      "\n",
      "Cell\n",
      "\tID             =\t4\n",
      "\tName           =\tModerator\n",
      "\tFill           =\tMaterial 3\n",
      "\tRegion         =\t(4 -5 6 -7 3)\n",
      "\tRotation       =\tNone\n",
      "\tTemperature    =\tNone\n",
      "\tTranslation    =\tNone\n",
      "\tVolume         =\tNone\n",
      "\n"
     ]
    }
   ],
   "source": [
    "print(fuel_cell)\n",
    "print(gap_cell)\n",
    "print(clad_cell)\n",
    "print(moderator_cell)"
   ]
  },
  {
   "cell_type": "markdown",
   "id": "23987d21",
   "metadata": {},
   "source": [
    "## Universes"
   ]
  },
  {
   "cell_type": "code",
   "execution_count": 12,
   "id": "e26de5c2",
   "metadata": {},
   "outputs": [],
   "source": [
    "root_universe = openmc.Universe(cells=(fuel_cell, gap_cell, \\\n",
    "                                       clad_cell, moderator_cell))"
   ]
  },
  {
   "cell_type": "code",
   "execution_count": 13,
   "id": "2541d9a1",
   "metadata": {},
   "outputs": [],
   "source": [
    "model.geometry = openmc.Geometry(root_universe)"
   ]
  },
  {
   "cell_type": "markdown",
   "id": "bf34965e",
   "metadata": {},
   "source": [
    "## Simulations parameters\n",
    "### Source"
   ]
  },
  {
   "cell_type": "code",
   "execution_count": 14,
   "id": "d3ff831d",
   "metadata": {},
   "outputs": [],
   "source": [
    "# Create an initial uniform spatial source distribution over fissionable zones\n",
    "bounds = [-pitch/2, -pitch/2, -pitch/2, pitch/2, pitch/2, pitch/2]\n",
    "uniform_dist = openmc.stats.Box(bounds[:3], bounds[3:], only_fissionable=True)\n",
    "source = openmc.IndependentSource(space=uniform_dist)"
   ]
  },
  {
   "cell_type": "markdown",
   "id": "054824db",
   "metadata": {},
   "source": [
    "### particle/batches/basic tally"
   ]
  },
  {
   "cell_type": "code",
   "execution_count": 15,
   "id": "27f4ba19",
   "metadata": {
    "scrolled": false
   },
   "outputs": [],
   "source": [
    "batches = 50\n",
    "inactive = 10\n",
    "particles = 250000\n",
    "\n",
    "# Instantiate a Settings object\n",
    "settings = openmc.Settings()\n",
    "\n",
    "settings.source = source\n",
    "settings.batches = batches\n",
    "settings.inactive = inactive\n",
    "settings.particles = particles\n",
    "settings.run_mode = 'eigenvalue'\n",
    "\n",
    "my_path = './mgxs_pin'\n",
    "settings.output = {'tallies': False, 'path':my_path}\n",
    "\n",
    "model.settings = settings"
   ]
  },
  {
   "cell_type": "markdown",
   "id": "f3afd032",
   "metadata": {},
   "source": [
    "### check if folder exists"
   ]
  },
  {
   "cell_type": "code",
   "execution_count": 16,
   "id": "d4a89d3a",
   "metadata": {},
   "outputs": [],
   "source": [
    "import pathlib\n",
    "path = pathlib.Path(my_path)\n",
    "path.mkdir(parents=True, exist_ok=True)"
   ]
  },
  {
   "cell_type": "markdown",
   "id": "69ae7c18",
   "metadata": {},
   "source": [
    "### pick energy-group structure"
   ]
  },
  {
   "cell_type": "code",
   "execution_count": 17,
   "id": "14a60f98",
   "metadata": {},
   "outputs": [],
   "source": [
    "groups = openmc.mgxs.EnergyGroups(group_edges='XMAS-172')"
   ]
  },
  {
   "cell_type": "markdown",
   "id": "43862b7f",
   "metadata": {},
   "source": [
    "## Tallies for MGXS generation\n",
    "### Supported cross section types\n",
    "MGXS_TYPES = (\n",
    "    'total',\n",
    "    'transport',\n",
    "    'nu-transport',\n",
    "    'absorption',\n",
    "    'reduced absorption',\n",
    "    'capture',\n",
    "    'fission',\n",
    "    'nu-fission',\n",
    "    'kappa-fission',\n",
    "    'scatter',\n",
    "    'nu-scatter',\n",
    "    'scatter matrix',\n",
    "    'nu-scatter matrix',\n",
    "    'multiplicity matrix',\n",
    "    'nu-fission matrix',\n",
    "    'scatter probability matrix',\n",
    "    'consistent scatter matrix',\n",
    "    'consistent nu-scatter matrix',\n",
    "    'chi',\n",
    "    'chi-prompt',\n",
    "    'inverse-velocity',\n",
    "    'prompt-nu-fission',\n",
    "    'prompt-nu-fission matrix',\n",
    "    'current',\n",
    "    'diffusion-coefficient',\n",
    "    'nu-diffusion-coefficient'\n",
    ")"
   ]
  },
  {
   "cell_type": "code",
   "execution_count": 18,
   "id": "46214a5a",
   "metadata": {},
   "outputs": [],
   "source": [
    "# Extract all Cells filled by Materials\n",
    "openmc_cells = model.geometry.get_all_material_cells().values()"
   ]
  },
  {
   "cell_type": "code",
   "execution_count": 19,
   "id": "d9236ea4",
   "metadata": {},
   "outputs": [
    {
     "name": "stderr",
     "output_type": "stream",
     "text": [
      "/Users/jean.ragusa/anaconda3/lib/python3.11/site-packages/openmc/mgxs/library.py:401: RuntimeWarning: The P0 correction will be ignored since the scattering order 3 is greater than zero\n",
      "  warn(msg, RuntimeWarning)\n"
     ]
    }
   ],
   "source": [
    "# Initialize MGXS Library\n",
    "mgxs_lib = openmc.mgxs.Library(model.geometry)\n",
    "\n",
    "# Add the chosen group structure\n",
    "mgxs_lib.energy_groups = groups\n",
    "\n",
    "# Scatttering Format and Legendre Order\n",
    "mgxs_lib.scatter_format = \"legendre\"\n",
    "mgxs_lib.legendre_order = 3\n",
    "\n",
    "# Specify multi-group cross-section types to compute\n",
    "mgxs_lib.mgxs_types = ['total', 'absorption', 'reduced absorption', 'scatter matrix', 'nu-scatter matrix',\\\n",
    "                       'consistent nu-scatter matrix', 'multiplicity matrix', \\\n",
    "                      'fission', 'nu-fission', 'kappa-fission','nu-fission matrix', 'chi', ]\n",
    "\n",
    "# set uncertainty goal\n",
    "mgxs_lib.tally_trigger = openmc.Trigger('std_dev', 1e-4)\n",
    "\n",
    "# Compute cross sections on a nuclide-by-nuclide basis\n",
    "mgxs_lib.by_nuclide = False\n",
    "\n",
    "# Specify a \"cell\" domain type for the cross section tally filters\n",
    "mgxs_lib.domain_type = 'cell'\n",
    "\n",
    "# Specify the cell domains over which to compute multi-group cross sections\n",
    "mgxs_lib.domains = model.geometry.get_all_material_cells().values()\n",
    "\n",
    "# Construct all tallies needed for the multi-group cross section library\n",
    "mgxs_lib.build_library()\n",
    "\n",
    "tallies = openmc.Tallies()\n",
    "mgxs_lib.add_to_tallies_file(tallies, merge=True)\n",
    "model.tallies = tallies\n"
   ]
  },
  {
   "cell_type": "markdown",
   "id": "627e4785",
   "metadata": {},
   "source": [
    "## Export model to XML"
   ]
  },
  {
   "cell_type": "code",
   "execution_count": 20,
   "id": "7cd6603f",
   "metadata": {},
   "outputs": [
    {
     "name": "stderr",
     "output_type": "stream",
     "text": [
      "/Users/jean.ragusa/anaconda3/lib/python3.11/site-packages/openmc/mixin.py:70: IDWarning: Another Filter instance already exists with id=147.\n",
      "  warn(msg, IDWarning)\n",
      "/Users/jean.ragusa/anaconda3/lib/python3.11/site-packages/openmc/mixin.py:70: IDWarning: Another Filter instance already exists with id=2.\n",
      "  warn(msg, IDWarning)\n",
      "/Users/jean.ragusa/anaconda3/lib/python3.11/site-packages/openmc/mixin.py:70: IDWarning: Another Filter instance already exists with id=9.\n",
      "  warn(msg, IDWarning)\n"
     ]
    }
   ],
   "source": [
    " model.export_to_model_xml(path = my_path + '/pincell.xml')"
   ]
  },
  {
   "cell_type": "markdown",
   "id": "5cb530f0",
   "metadata": {},
   "source": [
    "## Run OpenMC"
   ]
  },
  {
   "cell_type": "code",
   "execution_count": 21,
   "id": "f40054b6",
   "metadata": {},
   "outputs": [
    {
     "name": "stdout",
     "output_type": "stream",
     "text": [
      "sp NOT found\n"
     ]
    }
   ],
   "source": [
    "# trick to make several runs work with jupyter\n",
    "try:\n",
    "    sp \n",
    "    print('sp found')\n",
    "    sp.close()\n",
    "except NameError:\n",
    "    print('sp NOT found')"
   ]
  },
  {
   "cell_type": "code",
   "execution_count": 22,
   "id": "338ac42e",
   "metadata": {
    "scrolled": false
   },
   "outputs": [
    {
     "name": "stdout",
     "output_type": "stream",
     "text": [
      "                                %%%%%%%%%%%%%%%\n",
      "                           %%%%%%%%%%%%%%%%%%%%%%%%\n",
      "                        %%%%%%%%%%%%%%%%%%%%%%%%%%%%%%\n",
      "                      %%%%%%%%%%%%%%%%%%%%%%%%%%%%%%%%%%\n",
      "                    %%%%%%%%%%%%%%%%%%%%%%%%%%%%%%%%%%%%%%\n",
      "                   %%%%%%%%%%%%%%%%%%%%%%%%%%%%%%%%%%%%%%%%\n",
      "                                    %%%%%%%%%%%%%%%%%%%%%%%%\n",
      "                                     %%%%%%%%%%%%%%%%%%%%%%%%\n",
      "                 ###############      %%%%%%%%%%%%%%%%%%%%%%%%\n",
      "                ##################     %%%%%%%%%%%%%%%%%%%%%%%\n",
      "                ###################     %%%%%%%%%%%%%%%%%%%%%%%\n",
      "                ####################     %%%%%%%%%%%%%%%%%%%%%%\n",
      "                #####################     %%%%%%%%%%%%%%%%%%%%%\n",
      "                ######################     %%%%%%%%%%%%%%%%%%%%\n",
      "                #######################     %%%%%%%%%%%%%%%%%%\n",
      "                 #######################     %%%%%%%%%%%%%%%%%\n",
      "                 ######################     %%%%%%%%%%%%%%%%%\n",
      "                  ####################     %%%%%%%%%%%%%%%%%\n",
      "                    #################     %%%%%%%%%%%%%%%%%\n",
      "                     ###############     %%%%%%%%%%%%%%%%\n",
      "                       ############     %%%%%%%%%%%%%%%\n",
      "                          ########     %%%%%%%%%%%%%%\n",
      "                                      %%%%%%%%%%%\n",
      "\n",
      "                 | The OpenMC Monte Carlo Code\n",
      "       Copyright | 2011-2024 MIT, UChicago Argonne LLC, and contributors\n",
      "         License | https://docs.openmc.org/en/latest/license.html\n",
      "         Version | 0.14.1-dev\n",
      "        Git SHA1 | cfe210da22367ce5cf928482e7b74e48c909a7ee\n",
      "       Date/Time | 2024-11-20 17:50:37\n",
      "  OpenMP Threads | 12\n",
      "\n",
      " Reading model XML file 'model.xml' ...\n",
      " WARNING: Other XML file input(s) are present. These files may be ignored in\n",
      "          favor of the model.xml file.\n",
      " Reading cross sections XML file...\n",
      " Reading U235 from /Users/jean.ragusa/repo/endfb-viii.0-hdf5/neutron/U235.h5\n",
      " Reading U238 from /Users/jean.ragusa/repo/endfb-viii.0-hdf5/neutron/U238.h5\n",
      " Reading O16 from /Users/jean.ragusa/repo/endfb-viii.0-hdf5/neutron/O16.h5\n",
      " Reading O17 from /Users/jean.ragusa/repo/endfb-viii.0-hdf5/neutron/O17.h5\n",
      " Reading O18 from /Users/jean.ragusa/repo/endfb-viii.0-hdf5/neutron/O18.h5\n",
      " Reading Zr90 from /Users/jean.ragusa/repo/endfb-viii.0-hdf5/neutron/Zr90.h5\n",
      " Reading Zr91 from /Users/jean.ragusa/repo/endfb-viii.0-hdf5/neutron/Zr91.h5\n",
      " Reading Zr92 from /Users/jean.ragusa/repo/endfb-viii.0-hdf5/neutron/Zr92.h5\n",
      " Reading Zr94 from /Users/jean.ragusa/repo/endfb-viii.0-hdf5/neutron/Zr94.h5\n",
      " Reading Zr96 from /Users/jean.ragusa/repo/endfb-viii.0-hdf5/neutron/Zr96.h5\n",
      " WARNING: Negative value(s) found on probability table for nuclide Zr96 at 294K\n",
      " Reading H1 from /Users/jean.ragusa/repo/endfb-viii.0-hdf5/neutron/H1.h5\n",
      " Reading H2 from /Users/jean.ragusa/repo/endfb-viii.0-hdf5/neutron/H2.h5\n",
      " Reading c_H_in_H2O from\n",
      " /Users/jean.ragusa/repo/endfb-viii.0-hdf5/neutron/c_H_in_H2O.h5\n",
      " Minimum neutron data temperature: 294 K\n",
      " Maximum neutron data temperature: 294 K\n",
      " Preparing distributed cell instances...\n",
      " Writing summary.h5 file...\n",
      " Maximum neutron transport energy: 20000000 eV for O17\n",
      " Initializing source particles...\n",
      "\n",
      " ====================>     K EIGENVALUE SIMULATION     <====================\n",
      "\n",
      "  Bat./Gen.      k            Average k\n",
      "  =========   ========   ====================\n",
      "        1/1    1.36269\n",
      "        2/1    1.35841\n",
      "        3/1    1.35778\n",
      "        4/1    1.36342\n",
      "        5/1    1.36623\n",
      "        6/1    1.36202\n",
      "        7/1    1.36392\n",
      "        8/1    1.36147\n",
      "        9/1    1.36390\n",
      "       10/1    1.35944\n",
      "       11/1    1.36198\n",
      "       12/1    1.36486    1.36342 +/- 0.00144\n",
      "       13/1    1.35808    1.36164 +/- 0.00197\n",
      "       14/1    1.36975    1.36367 +/- 0.00246\n",
      "       15/1    1.36828    1.36459 +/- 0.00212\n",
      "       16/1    1.35768    1.36344 +/- 0.00208\n",
      "       17/1    1.36450    1.36359 +/- 0.00176\n",
      "       18/1    1.36529    1.36380 +/- 0.00154\n",
      "       19/1    1.36485    1.36392 +/- 0.00136\n",
      "       20/1    1.35926    1.36345 +/- 0.00131\n",
      "       21/1    1.36642    1.36372 +/- 0.00121\n",
      "       22/1    1.36227    1.36360 +/- 0.00111\n",
      "       23/1    1.36211    1.36349 +/- 0.00103\n",
      "       24/1    1.36363    1.36350 +/- 0.00095\n",
      "       25/1    1.36111    1.36334 +/- 0.00090\n",
      "       26/1    1.36233    1.36328 +/- 0.00085\n",
      "       27/1    1.36428    1.36333 +/- 0.00080\n",
      "       28/1    1.35920    1.36311 +/- 0.00079\n",
      "       29/1    1.35856    1.36287 +/- 0.00078\n",
      "       30/1    1.35612    1.36253 +/- 0.00081\n",
      "       31/1    1.36287    1.36254 +/- 0.00077\n",
      "       32/1    1.36603    1.36270 +/- 0.00075\n",
      "       33/1    1.35777    1.36249 +/- 0.00075\n",
      "       34/1    1.35835    1.36232 +/- 0.00074\n",
      "       35/1    1.35621    1.36207 +/- 0.00075\n",
      "       36/1    1.36106    1.36203 +/- 0.00072\n",
      "       37/1    1.36175    1.36202 +/- 0.00070\n",
      "       38/1    1.35973    1.36194 +/- 0.00068\n",
      "       39/1    1.36061    1.36189 +/- 0.00065\n",
      "       40/1    1.36218    1.36190 +/- 0.00063\n",
      "       41/1    1.36266    1.36193 +/- 0.00061\n",
      "       42/1    1.36249    1.36195 +/- 0.00059\n",
      "       43/1    1.36372    1.36200 +/- 0.00058\n",
      "       44/1    1.36399    1.36206 +/- 0.00056\n",
      "       45/1    1.36507    1.36214 +/- 0.00055\n",
      "       46/1    1.35981    1.36208 +/- 0.00054\n",
      "       47/1    1.36581    1.36218 +/- 0.00054\n",
      "       48/1    1.36446    1.36224 +/- 0.00052\n",
      "       49/1    1.36698    1.36236 +/- 0.00053\n",
      "       50/1    1.36226    1.36236 +/- 0.00051\n",
      " Creating state point ./mgxs_pin/statepoint.50.h5...\n",
      "\n",
      " =======================>     TIMING STATISTICS     <=======================\n",
      "\n",
      " Total time for initialization     = 1.0713e+00 seconds\n",
      "   Reading cross sections          = 1.0372e+00 seconds\n",
      " Total time in simulation          = 1.0399e+02 seconds\n",
      "   Time in transport only          = 1.0336e+02 seconds\n",
      "   Time in inactive batches        = 1.0588e+01 seconds\n",
      "   Time in active batches          = 9.3398e+01 seconds\n",
      "   Time synchronizing fission bank = 4.2907e-01 seconds\n",
      "     Sampling source sites         = 4.0052e-01 seconds\n",
      "     SEND/RECV source sites        = 2.8543e-02 seconds\n",
      "   Time accumulating tallies       = 2.7065e-02 seconds\n",
      "   Time writing statepoints        = 2.7665e-02 seconds\n",
      " Total time for finalization       = 1.0000e-06 seconds\n",
      " Total time elapsed                = 1.0511e+02 seconds\n",
      " Calculation Rate (inactive)       = 236111 particles/second\n",
      " Calculation Rate (active)         = 107068 particles/second\n",
      "\n",
      " ============================>     RESULTS     <============================\n",
      "\n",
      " k-effective (Collision)     = 1.36199 +/- 0.00040\n",
      " k-effective (Track-length)  = 1.36236 +/- 0.00051\n",
      " k-effective (Absorption)    = 1.36155 +/- 0.00032\n",
      " Combined k-effective        = 1.36173 +/- 0.00029\n",
      " Leakage Fraction            = 0.00000 +/- 0.00000\n",
      "\n"
     ]
    }
   ],
   "source": [
    "sp_file = model.run()"
   ]
  },
  {
   "cell_type": "markdown",
   "id": "d3eace41",
   "metadata": {},
   "source": [
    "## Tally data processing"
   ]
  },
  {
   "cell_type": "code",
   "execution_count": 23,
   "id": "d9290f85",
   "metadata": {},
   "outputs": [],
   "source": [
    "# Load the last statepoint file\n",
    "sp = openmc.StatePoint(sp_file)"
   ]
  },
  {
   "cell_type": "code",
   "execution_count": 24,
   "id": "57329be0",
   "metadata": {},
   "outputs": [],
   "source": [
    "# Initialize MGXS Library with OpenMC statepoint data\n",
    "mgxs_lib.load_from_statepoint(sp)"
   ]
  },
  {
   "cell_type": "code",
   "execution_count": 25,
   "id": "e790593a",
   "metadata": {},
   "outputs": [],
   "source": [
    "mgxs_file = mgxs_lib.create_mg_library(xs_type = 'macro')\n",
    "mgxs_file.export_to_hdf5(filename = my_path + '/mgxs_pincell.h5')"
   ]
  },
  {
   "cell_type": "code",
   "execution_count": 26,
   "id": "a7378b66",
   "metadata": {},
   "outputs": [],
   "source": [
    "sp.close()"
   ]
  }
 ],
 "metadata": {
  "kernelspec": {
   "display_name": "Python 3 (ipykernel)",
   "language": "python",
   "name": "python3"
  },
  "language_info": {
   "codemirror_mode": {
    "name": "ipython",
    "version": 3
   },
   "file_extension": ".py",
   "mimetype": "text/x-python",
   "name": "python",
   "nbconvert_exporter": "python",
   "pygments_lexer": "ipython3",
   "version": "3.11.4"
  }
 },
 "nbformat": 4,
 "nbformat_minor": 5
}
